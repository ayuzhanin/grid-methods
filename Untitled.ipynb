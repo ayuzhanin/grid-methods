{
 "cells": [
  {
   "cell_type": "code",
   "execution_count": 1,
   "metadata": {
    "collapsed": true
   },
   "outputs": [],
   "source": [
    "import pylab"
   ]
  },
  {
   "cell_type": "code",
   "execution_count": 2,
   "metadata": {
    "collapsed": true
   },
   "outputs": [],
   "source": [
    "from mpl_toolkits.mplot3d import Axes3D"
   ]
  },
  {
   "cell_type": "code",
   "execution_count": 3,
   "metadata": {
    "collapsed": false
   },
   "outputs": [],
   "source": [
    "from methods.method import Window\n",
    "win = Window((0.0, 0.0), (1.0, 1.0), 32,\n",
    "             lambda x, y: (6 * (x ** 4) * y + 12 * (x ** 2) * (y ** 3)),\n",
    "             lambda x, y: (x ** 4) * (y ** 3),\n",
    "             lambda x, y: (x ** 4) * (y ** 3),\n",
    "             lambda x, y: (x ** 4) * (y ** 3),\n",
    "             lambda x, y: (x ** 4) * (y ** 3))"
   ]
  },
  {
   "cell_type": "code",
   "execution_count": 4,
   "metadata": {
    "collapsed": false
   },
   "outputs": [
    {
     "ename": "NameError",
     "evalue": "name 'window' is not defined",
     "output_type": "error",
     "traceback": [
      "\u001b[0;31m---------------------------------------------------------------------------\u001b[0m",
      "\u001b[0;31mNameError\u001b[0m                                 Traceback (most recent call last)",
      "\u001b[0;32m<ipython-input-4-bcd330bab9dc>\u001b[0m in \u001b[0;36m<module>\u001b[0;34m()\u001b[0m\n\u001b[1;32m      1\u001b[0m \u001b[1;32mimport\u001b[0m \u001b[0mscipy\u001b[0m\u001b[1;33m\u001b[0m\u001b[0m\n\u001b[0;32m----> 2\u001b[0;31m \u001b[0mx\u001b[0m \u001b[1;33m=\u001b[0m \u001b[0mscipy\u001b[0m\u001b[1;33m.\u001b[0m\u001b[0mlinspace\u001b[0m\u001b[1;33m(\u001b[0m\u001b[1;36m0.0\u001b[0m\u001b[1;33m,\u001b[0m \u001b[1;36m1.0\u001b[0m\u001b[1;33m,\u001b[0m \u001b[0mwindow\u001b[0m\u001b[1;33m.\u001b[0m\u001b[0mnum\u001b[0m\u001b[1;33m)\u001b[0m\u001b[1;33m\u001b[0m\u001b[0m\n\u001b[0m\u001b[1;32m      3\u001b[0m \u001b[0my\u001b[0m \u001b[1;33m=\u001b[0m \u001b[0mscipy\u001b[0m\u001b[1;33m.\u001b[0m\u001b[0mlinspace\u001b[0m\u001b[1;33m(\u001b[0m\u001b[1;36m0.0\u001b[0m\u001b[1;33m,\u001b[0m \u001b[1;36m1.0\u001b[0m\u001b[1;33m,\u001b[0m \u001b[0mwindow\u001b[0m\u001b[1;33m.\u001b[0m\u001b[0mnum\u001b[0m\u001b[1;33m)\u001b[0m\u001b[1;33m\u001b[0m\u001b[0m\n",
      "\u001b[0;31mNameError\u001b[0m: name 'window' is not defined"
     ]
    }
   ],
   "source": [
    "import scipy\n",
    "x = scipy.linspace(0.0, 1.0, window.num)\n",
    "y = scipy.linspace(0.0, 1.0, window.num)"
   ]
  },
  {
   "cell_type": "code",
   "execution_count": 46,
   "metadata": {
    "collapsed": false
   },
   "outputs": [],
   "source": [
    "from methods.jacobi import Jacobi\n",
    "jacobi = Jacobi()"
   ]
  },
  {
   "cell_type": "code",
   "execution_count": 49,
   "metadata": {
    "collapsed": false
   },
   "outputs": [
    {
     "name": "stdout",
     "output_type": "stream",
     "text": [
      "counter =  2 diff =  237.2434651851654\n",
      "counter =  3 diff =  147.96840115264058\n",
      "counter =  4 diff =  20.100443709641695\n",
      "counter =  5 diff =  65.41573303635232\n",
      "counter =  6 diff =  26.631377772195265\n",
      "counter =  7 diff =  23.784540546424978\n",
      "counter =  8 diff =  15.862614383784603\n",
      "counter =  9 diff =  18.663530288215952\n",
      "counter =  10 diff =  4.197449916447567\n",
      "counter =  11 diff =  14.899735285024235\n",
      "counter =  12 diff =  3.256386900543646\n",
      "counter =  13 diff =  8.727523976822908\n",
      "counter =  14 diff =  5.404607124616348\n",
      "counter =  15 diff =  4.794796915165989\n",
      "counter =  16 diff =  4.560565798507241\n",
      "counter =  17 diff =  3.954751485905831\n",
      "counter =  18 diff =  2.3263987362137186\n",
      "counter =  19 diff =  4.749830192410059\n",
      "counter =  20 diff =  0.8177942968592902\n",
      "counter =  21 diff =  3.8494324078002364\n",
      "counter =  22 diff =  1.025217359139674\n",
      "counter =  23 diff =  2.6809130855457397\n",
      "counter =  24 diff =  1.5658581937826739\n",
      "counter =  25 diff =  1.7921680075702966\n",
      "counter =  26 diff =  1.903808099293201\n",
      "counter =  27 diff =  1.1167905847549378\n",
      "counter =  28 diff =  1.3851512463734252\n",
      "counter =  29 diff =  1.3221902358824877\n",
      "counter =  30 diff =  0.8631578730870046\n",
      "counter =  31 diff =  1.5601509496976291\n",
      "counter =  32 diff =  0.4550365019021001\n",
      "counter =  33 diff =  1.5427806811975415\n",
      "counter =  34 diff =  0.3077832395666178\n",
      "counter =  35 diff =  1.1917752001783697\n",
      "counter =  36 diff =  0.5036043605198302\n",
      "counter =  37 diff =  0.9000160397970376\n",
      "counter =  38 diff =  0.6514111934047833\n",
      "counter =  39 diff =  0.6576801275940056\n",
      "counter =  40 diff =  0.761572703675256\n",
      "counter =  41 diff =  0.456507983451786\n",
      "counter =  42 diff =  0.6629924856406433\n",
      "counter =  43 diff =  0.46879046544296443\n",
      "counter =  44 diff =  0.48256046775009054\n",
      "counter =  45 diff =  0.5682349476905415\n",
      "counter =  46 diff =  0.330128441719296\n",
      "counter =  47 diff =  0.6452017606632694\n",
      "counter =  48 diff =  0.20143288482393018\n",
      "counter =  49 diff =  0.6516400402143745\n",
      "counter =  50 diff =  0.14515315145018803\n",
      "counter =  51 diff =  0.5332101180447921\n",
      "counter =  52 diff =  0.21600852141347104\n",
      "counter =  53 diff =  0.42960163250506866\n",
      "counter =  54 diff =  0.2745149193755765\n",
      "counter =  55 diff =  0.3389954360298475\n",
      "counter =  56 diff =  0.3225764398394517\n",
      "counter =  57 diff =  0.2597892858954083\n",
      "counter =  58 diff =  0.3617978099146626\n",
      "counter =  59 diff =  0.19057659887971568\n",
      "counter =  60 diff =  0.32028107066219036\n",
      "counter =  61 diff =  0.20337700102663803\n",
      "counter =  62 diff =  0.2520853102705587\n",
      "counter =  63 diff =  0.24419701487443035\n",
      "counter =  64 diff =  0.191778590936849\n",
      "counter =  65 diff =  0.2784934453689516\n",
      "counter =  66 diff =  0.1384671431291622\n",
      "counter =  67 diff =  0.3071556631226713\n",
      "counter =  68 diff =  0.09136032555062457\n",
      "counter =  69 diff =  0.29945825087040134\n",
      "counter =  70 diff =  0.0812500602979469\n",
      "counter =  71 diff =  0.2542932221487604\n",
      "counter =  72 diff =  0.1092860837874241\n",
      "counter =  73 diff =  0.21347388716472437\n",
      "counter =  74 diff =  0.13367791998595635\n",
      "counter =  75 diff =  0.17659043431683585\n",
      "counter =  76 diff =  0.15484386254820492\n",
      "counter =  77 diff =  0.14327121761959916\n",
      "counter =  78 diff =  0.17315325243583857\n",
      "counter =  79 diff =  0.11317965536841257\n",
      "counter =  80 diff =  0.18893236168912608\n",
      "counter =  81 diff =  0.0860112148789085\n",
      "counter =  82 diff =  0.16414766103579836\n",
      "counter =  83 diff =  0.09981245753496637\n",
      "counter =  84 diff =  0.13570100872593116\n",
      "counter =  85 diff =  0.11768771403401956\n",
      "counter =  86 diff =  0.10979630268667506\n",
      "counter =  87 diff =  0.13343393411628313\n",
      "counter =  88 diff =  0.08621153821860617\n",
      "counter =  89 diff =  0.1472698381070927\n",
      "counter =  90 diff =  0.0647445373122082\n",
      "counter =  91 diff =  0.15939116026396505\n",
      "counter =  92 diff =  0.045211213890098634\n",
      "counter =  93 diff =  0.150424948286485\n",
      "counter =  94 diff =  0.04699218192126864\n",
      "counter =  95 diff =  0.13121591487498563\n",
      "counter =  96 diff =  0.05924715571904926\n",
      "counter =  97 diff =  0.11346788782952899\n",
      "counter =  98 diff =  0.07027412247174425\n",
      "counter =  99 diff =  0.09707209721102572\n",
      "counter =  100 diff =  0.08018157047240493\n",
      "counter =  101 diff =  0.08192787894199682\n",
      "counter =  102 diff =  0.08906821186621983\n",
      "counter =  103 diff =  0.06794212268721367\n",
      "counter =  104 diff =  0.09702388715618326\n",
      "counter =  105 diff =  0.05502874077586739\n",
      "counter =  106 diff =  0.10413038720952272\n",
      "counter =  107 diff =  0.043108161982672755\n",
      "counter =  108 diff =  0.09018960006338261\n",
      "counter =  109 diff =  0.05237945168974534\n",
      "counter =  110 diff =  0.07721471921760781\n",
      "counter =  111 diff =  0.06082932919176187\n",
      "counter =  112 diff =  0.06516073587556548\n",
      "counter =  113 diff =  0.06850186598927621\n",
      "counter =  114 diff =  0.05396389911697952\n",
      "counter =  115 diff =  0.07545918642273364\n",
      "counter =  116 diff =  0.04356499041099937\n",
      "counter =  117 diff =  0.08175832875807032\n",
      "counter =  118 diff =  0.033909004442904234\n",
      "counter =  119 diff =  0.08745167857179581\n",
      "counter =  120 diff =  0.024944849346439923\n",
      "counter =  121 diff =  0.08227222864124428\n",
      "counter =  122 diff =  0.02694020194033442\n",
      "counter =  123 diff =  0.07331282483772839\n",
      "counter =  124 diff =  0.03280236098871114\n",
      "counter =  125 diff =  0.06490449691818867\n",
      "counter =  126 diff =  0.03820000177879024\n",
      "counter =  127 diff =  0.05701413859358695\n",
      "counter =  128 diff =  0.04316556951070538\n",
      "counter =  129 diff =  0.04961065449154489\n",
      "counter =  130 diff =  0.047729195501716504\n",
      "counter =  131 diff =  0.042664844853959494\n",
      "counter =  132 diff =  0.05191886677161506\n",
      "counter =  133 diff =  0.036149294798548226\n",
      "counter =  134 diff =  0.05576058337490508\n",
      "counter =  135 diff =  0.030038268429677828\n",
      "counter =  136 diff =  0.059278504247686215\n",
      "counter =  137 diff =  0.024307607942290588\n",
      "counter =  138 diff =  0.05299926870202398\n",
      "counter =  139 diff =  0.02843045139624678\n",
      "counter =  140 diff =  0.046611836205556756\n",
      "counter =  141 diff =  0.03271742721781834\n",
      "counter =  142 diff =  0.04059290011105077\n",
      "counter =  143 diff =  0.03669127038781994\n",
      "counter =  144 diff =  0.034921782728360995\n",
      "counter =  145 diff =  0.04037195345537725\n",
      "counter =  146 diff =  0.029579002669009924\n",
      "counter =  147 diff =  0.04377814192486085\n",
      "counter =  148 diff =  0.024546205606668536\n",
      "counter =  149 diff =  0.04692728328200246\n",
      "counter =  150 diff =  0.01980609861175253\n",
      "counter =  151 diff =  0.04983568986548903\n",
      "counter =  152 diff =  0.015342387977028693\n",
      "counter =  153 diff =  0.048689104546411954\n",
      "counter =  154 diff =  0.014969231866473365\n",
      "counter =  155 diff =  0.04418058868736807\n",
      "counter =  156 diff =  0.0179933685828928\n",
      "counter =  157 diff =  0.039900881388888365\n",
      "counter =  158 diff =  0.020823771679800984\n",
      "counter =  159 diff =  0.035838682623051454\n",
      "counter =  160 diff =  0.02347137952773437\n",
      "counter =  161 diff =  0.03198326078305058\n",
      "counter =  162 diff =  0.025946498990236933\n",
      "counter =  163 diff =  0.028324425079262028\n",
      "counter =  164 diff =  0.028258842940800832\n",
      "counter =  165 diff =  0.024852498972705916\n",
      "counter =  166 diff =  0.030417565581984718\n",
      "counter =  167 diff =  0.02155829466499881\n",
      "counter =  168 diff =  0.032431295670591\n",
      "counter =  169 diff =  0.01843308864411597\n",
      "counter =  170 diff =  0.03430816776901224\n",
      "counter =  171 diff =  0.01546859828724223\n",
      "counter =  172 diff =  0.033125121081070574\n",
      "counter =  173 diff =  0.015587690044810643\n",
      "counter =  174 diff =  0.029775855452953692\n",
      "counter =  175 diff =  0.017896429716728335\n",
      "counter =  176 diff =  0.026586948685093148\n",
      "counter =  177 diff =  0.02006797074736255\n",
      "counter =  178 diff =  0.023550971448742075\n",
      "counter =  179 diff =  0.022109444315276505\n",
      "counter =  180 diff =  0.020660850558215316\n",
      "counter =  181 diff =  0.02402760052845565\n",
      "counter =  182 diff =  0.017909851750687267\n",
      "counter =  183 diff =  0.025828829625965\n",
      "counter =  184 diff =  0.015291563228714722\n",
      "counter =  185 diff =  0.027519181982910368\n",
      "counter =  186 diff =  0.012799879942349435\n",
      "counter =  187 diff =  0.029104386985665087\n",
      "counter =  188 diff =  0.010428988594014754\n",
      "counter =  189 diff =  0.03058987083218767\n",
      "counter =  190 diff =  0.008173353339799405\n"
     ]
    }
   ],
   "source": [
    "eps = 0.01\n",
    "result = jacobi.solve(win, eps)"
   ]
  },
  {
   "cell_type": "code",
   "execution_count": null,
   "metadata": {
    "collapsed": true
   },
   "outputs": [],
   "source": [
    "from auxiliary.u_getter import UGetter\n",
    "z = "
   ]
  }
 ],
 "metadata": {
  "anaconda-cloud": {},
  "kernelspec": {
   "display_name": "Python [default]",
   "language": "python",
   "name": "python3"
  },
  "language_info": {
   "codemirror_mode": {
    "name": "ipython",
    "version": 3
   },
   "file_extension": ".py",
   "mimetype": "text/x-python",
   "name": "python",
   "nbconvert_exporter": "python",
   "pygments_lexer": "ipython3",
   "version": "3.5.2"
  }
 },
 "nbformat": 4,
 "nbformat_minor": 1
}
